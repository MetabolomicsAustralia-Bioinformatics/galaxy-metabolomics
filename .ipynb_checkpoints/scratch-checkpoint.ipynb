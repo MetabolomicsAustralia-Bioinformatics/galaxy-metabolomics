{
 "cells": [
  {
   "cell_type": "code",
   "execution_count": 2,
   "metadata": {},
   "outputs": [],
   "source": [
    "library(\"pacman\")\n",
    "\n",
    "pacman::p_load(\"tidyverse\", \"MetaboAnalystR\")\n",
    "\n",
    "source(\"~/maca-utils/maca-kegg-utils.R\")"
   ]
  },
  {
   "cell_type": "code",
   "execution_count": 5,
   "metadata": {},
   "outputs": [
    {
     "name": "stdout",
     "output_type": "stream",
     "text": [
      "[1] \"MetaboAnalyst R objects initialized ...\"\n",
      " [1] \"Successfully passed sanity check!\"                                                                    \n",
      " [2] \"Samples are not paired.\"                                                                              \n",
      " [3] \"2 groups were detected in samples.\"                                                                   \n",
      " [4] \"Only English letters, numbers, underscore, hyphen and forward slash (/) are allowed.\"                 \n",
      " [5] \"<font color=\\\"orange\\\">Other special characters or punctuations (if any) will be stripped off.</font>\"\n",
      " [6] \"All data values are numeric.\"                                                                         \n",
      " [7] \"A total of 0 (0%) missing values were detected.\"                                                      \n",
      " [8] \"<u>By default, these values will be replaced by a small value.</u>\"                                   \n",
      " [9] \"Click <b>Skip</b> button if you accept the default practice\"                                          \n",
      "[10] \"Or click <b>Missing value imputation</b> to use other methods\"                                        \n",
      "[1] \"MetaboAnalyst R objects initialized ...\"\n",
      "[1] \"Loaded files from MetaboAnalyst web-server.\"\n",
      "[1] \"Loaded files from MetaboAnalyst web-server.\"\n",
      "[1] \"Loaded files from MetaboAnalyst web-server.\"\n",
      "NULL\n"
     ]
    }
   ],
   "source": [
    "de_tbl <- call_maca_normalization(\"~/Documents/galaxy-metabolomics/data-test/fake_data.csv\")\n",
    "de_tbl <- get_de_metabs(de_tbl, 0.05, \"control\", \"treatment\", 0.05)"
   ]
  },
  {
   "cell_type": "code",
   "execution_count": 7,
   "metadata": {},
   "outputs": [
    {
     "data": {
      "text/html": [
       "<table>\n",
       "<caption>A tibble: 2 × 7</caption>\n",
       "<thead>\n",
       "\t<tr><th scope=col>Sample</th><th scope=col>log2_fc</th><th scope=col>KEGG</th><th scope=col>HMDB</th><th scope=col>raw_p_val</th><th scope=col>adj_p_val</th><th scope=col>fc_colour</th></tr>\n",
       "\t<tr><th scope=col>&lt;chr&gt;</th><th scope=col>&lt;dbl&gt;</th><th scope=col>&lt;chr&gt;</th><th scope=col>&lt;chr&gt;</th><th scope=col>&lt;dbl&gt;</th><th scope=col>&lt;dbl&gt;</th><th scope=col>&lt;chr&gt;</th></tr>\n",
       "</thead>\n",
       "<tbody>\n",
       "\t<tr><td>N-Acetylglutamine</td><td>-1.0136123</td><td>undef </td><td>HMDB0006029</td><td>1.400808e-03</td><td>1.260727e-02</td><td>#ca0020</td></tr>\n",
       "\t<tr><td>Valine           </td><td> 0.8249785</td><td>C00183</td><td>HMDB0000883</td><td>4.820433e-06</td><td>4.820433e-05</td><td>#0571b0</td></tr>\n",
       "</tbody>\n",
       "</table>\n"
      ],
      "text/latex": [
       "A tibble: 2 × 7\n",
       "\\begin{tabular}{r|lllllll}\n",
       " Sample & log2\\_fc & KEGG & HMDB & raw\\_p\\_val & adj\\_p\\_val & fc\\_colour\\\\\n",
       " <chr> & <dbl> & <chr> & <chr> & <dbl> & <dbl> & <chr>\\\\\n",
       "\\hline\n",
       "\t N-Acetylglutamine & -1.0136123 & undef  & HMDB0006029 & 1.400808e-03 & 1.260727e-02 & \\#ca0020\\\\\n",
       "\t Valine            &  0.8249785 & C00183 & HMDB0000883 & 4.820433e-06 & 4.820433e-05 & \\#0571b0\\\\\n",
       "\\end{tabular}\n"
      ],
      "text/markdown": [
       "\n",
       "A tibble: 2 × 7\n",
       "\n",
       "| Sample &lt;chr&gt; | log2_fc &lt;dbl&gt; | KEGG &lt;chr&gt; | HMDB &lt;chr&gt; | raw_p_val &lt;dbl&gt; | adj_p_val &lt;dbl&gt; | fc_colour &lt;chr&gt; |\n",
       "|---|---|---|---|---|---|---|\n",
       "| N-Acetylglutamine | -1.0136123 | undef  | HMDB0006029 | 1.400808e-03 | 1.260727e-02 | #ca0020 |\n",
       "| Valine            |  0.8249785 | C00183 | HMDB0000883 | 4.820433e-06 | 4.820433e-05 | #0571b0 |\n",
       "\n"
      ],
      "text/plain": [
       "  Sample            log2_fc    KEGG   HMDB        raw_p_val    adj_p_val   \n",
       "1 N-Acetylglutamine -1.0136123 undef  HMDB0006029 1.400808e-03 1.260727e-02\n",
       "2 Valine             0.8249785 C00183 HMDB0000883 4.820433e-06 4.820433e-05\n",
       "  fc_colour\n",
       "1 #ca0020  \n",
       "2 #0571b0  "
      ]
     },
     "metadata": {},
     "output_type": "display_data"
    }
   ],
   "source": [
    "de_tbl %>% dplyr::filter(adj_p_val < 0.05)"
   ]
  },
  {
   "cell_type": "code",
   "execution_count": 8,
   "metadata": {},
   "outputs": [
    {
     "data": {
      "text/html": [
       "<table>\n",
       "<caption>A tibble: 10 × 7</caption>\n",
       "<thead>\n",
       "\t<tr><th scope=col>Sample</th><th scope=col>log2_fc</th><th scope=col>KEGG</th><th scope=col>HMDB</th><th scope=col>raw_p_val</th><th scope=col>adj_p_val</th><th scope=col>fc_colour</th></tr>\n",
       "\t<tr><th scope=col>&lt;chr&gt;</th><th scope=col>&lt;dbl&gt;</th><th scope=col>&lt;chr&gt;</th><th scope=col>&lt;chr&gt;</th><th scope=col>&lt;dbl&gt;</th><th scope=col>&lt;dbl&gt;</th><th scope=col>&lt;chr&gt;</th></tr>\n",
       "</thead>\n",
       "<tbody>\n",
       "\t<tr><td>N-Acetylglutamine         </td><td>-1.0136123</td><td>undef </td><td>HMDB0006029</td><td>1.400808e-03</td><td>1.260727e-02</td><td>#ca0020</td></tr>\n",
       "\t<tr><td>Coenzyme A                </td><td>-1.7217761</td><td>C00010</td><td>HMDB0001423</td><td>2.227365e-02</td><td>1.781892e-01</td><td>#ACACAC</td></tr>\n",
       "\t<tr><td>Aminoadipic acid          </td><td> 0.5152397</td><td>C00956</td><td>HMDB0000510</td><td>3.796883e-01</td><td>5.082977e-01</td><td>#ACACAC</td></tr>\n",
       "\t<tr><td>Fumaric acid              </td><td>-0.2959687</td><td>C00122</td><td>HMDB0000134</td><td>3.070766e-02</td><td>2.149536e-01</td><td>#ACACAC</td></tr>\n",
       "\t<tr><td>NADH                      </td><td>-0.1237409</td><td>C00004</td><td>HMDB0001487</td><td>4.315098e-01</td><td>5.082977e-01</td><td>#ACACAC</td></tr>\n",
       "\t<tr><td>Valine                    </td><td> 0.8249785</td><td>C00183</td><td>HMDB0000883</td><td>4.820433e-06</td><td>4.820433e-05</td><td>#0571b0</td></tr>\n",
       "\t<tr><td>Glutathionylspermidine NPS</td><td>-0.5597617</td><td>undef </td><td>undef      </td><td>5.973126e-02</td><td>3.199172e-01</td><td>#ACACAC</td></tr>\n",
       "\t<tr><td>dUMP                      </td><td>-0.4754116</td><td>C00365</td><td>HMDB0001409</td><td>3.578001e-01</td><td>5.082977e-01</td><td>#ACACAC</td></tr>\n",
       "\t<tr><td>Uridine 5'-diphosphate    </td><td>-0.1789728</td><td>C00015</td><td>HMDB0000295</td><td>5.082977e-01</td><td>5.082977e-01</td><td>#ACACAC</td></tr>\n",
       "\t<tr><td>Dodecanoic acid           </td><td>-0.2519184</td><td>C02679</td><td>HMDB0000638</td><td>6.398344e-02</td><td>3.199172e-01</td><td>#ACACAC</td></tr>\n",
       "</tbody>\n",
       "</table>\n"
      ],
      "text/latex": [
       "A tibble: 10 × 7\n",
       "\\begin{tabular}{r|lllllll}\n",
       " Sample & log2\\_fc & KEGG & HMDB & raw\\_p\\_val & adj\\_p\\_val & fc\\_colour\\\\\n",
       " <chr> & <dbl> & <chr> & <chr> & <dbl> & <dbl> & <chr>\\\\\n",
       "\\hline\n",
       "\t N-Acetylglutamine          & -1.0136123 & undef  & HMDB0006029 & 1.400808e-03 & 1.260727e-02 & \\#ca0020\\\\\n",
       "\t Coenzyme A                 & -1.7217761 & C00010 & HMDB0001423 & 2.227365e-02 & 1.781892e-01 & \\#ACACAC\\\\\n",
       "\t Aminoadipic acid           &  0.5152397 & C00956 & HMDB0000510 & 3.796883e-01 & 5.082977e-01 & \\#ACACAC\\\\\n",
       "\t Fumaric acid               & -0.2959687 & C00122 & HMDB0000134 & 3.070766e-02 & 2.149536e-01 & \\#ACACAC\\\\\n",
       "\t NADH                       & -0.1237409 & C00004 & HMDB0001487 & 4.315098e-01 & 5.082977e-01 & \\#ACACAC\\\\\n",
       "\t Valine                     &  0.8249785 & C00183 & HMDB0000883 & 4.820433e-06 & 4.820433e-05 & \\#0571b0\\\\\n",
       "\t Glutathionylspermidine NPS & -0.5597617 & undef  & undef       & 5.973126e-02 & 3.199172e-01 & \\#ACACAC\\\\\n",
       "\t dUMP                       & -0.4754116 & C00365 & HMDB0001409 & 3.578001e-01 & 5.082977e-01 & \\#ACACAC\\\\\n",
       "\t Uridine 5'-diphosphate     & -0.1789728 & C00015 & HMDB0000295 & 5.082977e-01 & 5.082977e-01 & \\#ACACAC\\\\\n",
       "\t Dodecanoic acid            & -0.2519184 & C02679 & HMDB0000638 & 6.398344e-02 & 3.199172e-01 & \\#ACACAC\\\\\n",
       "\\end{tabular}\n"
      ],
      "text/markdown": [
       "\n",
       "A tibble: 10 × 7\n",
       "\n",
       "| Sample &lt;chr&gt; | log2_fc &lt;dbl&gt; | KEGG &lt;chr&gt; | HMDB &lt;chr&gt; | raw_p_val &lt;dbl&gt; | adj_p_val &lt;dbl&gt; | fc_colour &lt;chr&gt; |\n",
       "|---|---|---|---|---|---|---|\n",
       "| N-Acetylglutamine          | -1.0136123 | undef  | HMDB0006029 | 1.400808e-03 | 1.260727e-02 | #ca0020 |\n",
       "| Coenzyme A                 | -1.7217761 | C00010 | HMDB0001423 | 2.227365e-02 | 1.781892e-01 | #ACACAC |\n",
       "| Aminoadipic acid           |  0.5152397 | C00956 | HMDB0000510 | 3.796883e-01 | 5.082977e-01 | #ACACAC |\n",
       "| Fumaric acid               | -0.2959687 | C00122 | HMDB0000134 | 3.070766e-02 | 2.149536e-01 | #ACACAC |\n",
       "| NADH                       | -0.1237409 | C00004 | HMDB0001487 | 4.315098e-01 | 5.082977e-01 | #ACACAC |\n",
       "| Valine                     |  0.8249785 | C00183 | HMDB0000883 | 4.820433e-06 | 4.820433e-05 | #0571b0 |\n",
       "| Glutathionylspermidine NPS | -0.5597617 | undef  | undef       | 5.973126e-02 | 3.199172e-01 | #ACACAC |\n",
       "| dUMP                       | -0.4754116 | C00365 | HMDB0001409 | 3.578001e-01 | 5.082977e-01 | #ACACAC |\n",
       "| Uridine 5'-diphosphate     | -0.1789728 | C00015 | HMDB0000295 | 5.082977e-01 | 5.082977e-01 | #ACACAC |\n",
       "| Dodecanoic acid            | -0.2519184 | C02679 | HMDB0000638 | 6.398344e-02 | 3.199172e-01 | #ACACAC |\n",
       "\n"
      ],
      "text/plain": [
       "   Sample                     log2_fc    KEGG   HMDB        raw_p_val   \n",
       "1  N-Acetylglutamine          -1.0136123 undef  HMDB0006029 1.400808e-03\n",
       "2  Coenzyme A                 -1.7217761 C00010 HMDB0001423 2.227365e-02\n",
       "3  Aminoadipic acid            0.5152397 C00956 HMDB0000510 3.796883e-01\n",
       "4  Fumaric acid               -0.2959687 C00122 HMDB0000134 3.070766e-02\n",
       "5  NADH                       -0.1237409 C00004 HMDB0001487 4.315098e-01\n",
       "6  Valine                      0.8249785 C00183 HMDB0000883 4.820433e-06\n",
       "7  Glutathionylspermidine NPS -0.5597617 undef  undef       5.973126e-02\n",
       "8  dUMP                       -0.4754116 C00365 HMDB0001409 3.578001e-01\n",
       "9  Uridine 5'-diphosphate     -0.1789728 C00015 HMDB0000295 5.082977e-01\n",
       "10 Dodecanoic acid            -0.2519184 C02679 HMDB0000638 6.398344e-02\n",
       "   adj_p_val    fc_colour\n",
       "1  1.260727e-02 #ca0020  \n",
       "2  1.781892e-01 #ACACAC  \n",
       "3  5.082977e-01 #ACACAC  \n",
       "4  2.149536e-01 #ACACAC  \n",
       "5  5.082977e-01 #ACACAC  \n",
       "6  4.820433e-05 #0571b0  \n",
       "7  3.199172e-01 #ACACAC  \n",
       "8  5.082977e-01 #ACACAC  \n",
       "9  5.082977e-01 #ACACAC  \n",
       "10 3.199172e-01 #ACACAC  "
      ]
     },
     "metadata": {},
     "output_type": "display_data"
    }
   ],
   "source": [
    "de_tbl"
   ]
  },
  {
   "cell_type": "code",
   "execution_count": 9,
   "metadata": {},
   "outputs": [],
   "source": [
    "write_csv(de_tbl, \"~/Documents/galaxy-metabolomics/data-test/fake_data_output.csv\")"
   ]
  },
  {
   "cell_type": "code",
   "execution_count": null,
   "metadata": {},
   "outputs": [],
   "source": []
  }
 ],
 "metadata": {
  "kernelspec": {
   "display_name": "R",
   "language": "R",
   "name": "ir"
  },
  "language_info": {
   "codemirror_mode": "r",
   "file_extension": ".r",
   "mimetype": "text/x-r-source",
   "name": "R",
   "pygments_lexer": "r",
   "version": "3.6.0"
  }
 },
 "nbformat": 4,
 "nbformat_minor": 2
}
